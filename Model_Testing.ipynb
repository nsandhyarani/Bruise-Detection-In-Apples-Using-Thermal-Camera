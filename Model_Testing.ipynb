{
  "cells": [
    {
      "cell_type": "markdown",
      "metadata": {
        "id": "O3sqf0OqCaff"
      },
      "source": [
        "# Importing Libraries"
      ]
    },
    {
      "cell_type": "code",
      "source": [
        "pip install --upgrade tensorflow keras\n"
      ],
      "metadata": {
        "id": "MDfvY-0Sk182"
      },
      "execution_count": null,
      "outputs": []
    },
    {
      "cell_type": "code",
      "execution_count": null,
      "metadata": {
        "id": "QDYiax0a5LcM"
      },
      "outputs": [],
      "source": [
        "import numpy as np\n",
        "import pandas as pd\n",
        "import tensorflow as tf\n",
        "import cv2\n",
        "import matplotlib.pyplot as plt"
      ]
    },
    {
      "cell_type": "code",
      "source": [
        "import cv2\n",
        "import numpy as np\n",
        "from skimage.feature import greycomatrix, greycoprops\n",
        "from tensorflow.keras.models import load_model\n",
        "import pickle\n",
        "\n",
        "# Load the trained model and scaler\n",
        "model = load_model('model.h5')\n",
        "scaler = pickle.load(open('scaler1.pkl', 'rb'))\n",
        "\n",
        "def extract_features(image_path):\n",
        "    # Load and preprocess the image\n",
        "    image = cv2.imread(image_path)\n",
        "    gray_image = cv2.cvtColor(image, cv2.COLOR_BGR2GRAY)\n",
        "\n",
        "    # Extract GLCM features\n",
        "    glcm = greycomatrix(gray_image, distances=[1], angles=[0], levels=256, symmetric=True, normed=True)\n",
        "\n",
        "    features = {}\n",
        "    features['Contrast'] = greycoprops(glcm, 'contrast')[0, 0]\n",
        "    features['Correlation'] = greycoprops(glcm, 'correlation')[0, 0]\n",
        "    features['Energy'] = greycoprops(glcm, 'energy')[0, 0]\n",
        "    features['Homogeneity'] = greycoprops(glcm, 'homogeneity')[0, 0]\n",
        "\n",
        "    # Calculate other features\n",
        "    features['Mean'] = np.mean(gray_image)\n",
        "    features['Standard Deviation'] = np.std(gray_image)\n",
        "    features['Entropy'] = -np.sum(glcm * np.log2(glcm + (glcm==0)))\n",
        "    features['Variance'] = np.var(gray_image)\n",
        "\n",
        "    # Calculate skewness and kurtosis\n",
        "    mean = np.mean(gray_image)\n",
        "    features['Skewness'] = np.mean(((gray_image - mean) / np.std(gray_image)) ** 3)\n",
        "    features['Kurtosis'] = np.mean(((gray_image - mean) / np.std(gray_image)) ** 4) - 3\n",
        "\n",
        "    return features\n",
        "\n",
        "def predict_bruise(image_path):\n",
        "    # Extract features\n",
        "    features = extract_features(image_path)\n",
        "\n",
        "    # Prepare feature vector\n",
        "    feature_vector = np.array([[\n",
        "        features['Contrast'], features['Correlation'], features['Energy'],\n",
        "        features['Homogeneity'], features['Mean'], features['Standard Deviation'],\n",
        "        features['Entropy'], features['Variance'], features['Kurtosis'],\n",
        "        features['Skewness']\n",
        "    ]])\n",
        "\n",
        "    # Scale features\n",
        "    scaled_features = scaler.transform(feature_vector)\n",
        "\n",
        "    # Make prediction\n",
        "    prediction = model.predict(scaled_features)\n",
        "\n",
        "    return prediction[0]\n",
        "\n",
        "# Test the model\n",
        "image_path = '/content/20.jpg'  # Replace with your image path\n",
        "prediction = predict_bruise(image_path)\n",
        "\n",
        "print(f\"Predicted probabilities: Non-Bruised={prediction[0]:.4f}, Bruised={prediction[1]:.4f}\")\n",
        "\n",
        "threshold = 0.5\n",
        "if prediction[1] >= threshold:\n",
        "    print(\"Prediction: Bruised\")\n",
        "else:\n",
        "    print(\"Prediction: Non-Bruised\")"
      ],
      "metadata": {
        "colab": {
          "base_uri": "https://localhost:8080/"
        },
        "id": "mP9qaajufT1B",
        "outputId": "69680779-d843-404c-917c-8dc736afdf26"
      },
      "execution_count": null,
      "outputs": [
        {
          "output_type": "stream",
          "name": "stderr",
          "text": [
            "/usr/local/lib/python3.10/dist-packages/skimage/feature/__init__.py:35: skimage_deprecation: Function ``greycomatrix`` is deprecated and will be removed in version 1.0. Use ``skimage.feature.graycomatrix`` instead.\n",
            "  removed_version='1.0')\n",
            "/usr/local/lib/python3.10/dist-packages/skimage/feature/__init__.py:42: skimage_deprecation: Function ``greycoprops`` is deprecated and will be removed in version 1.0. Use ``skimage.feature.graycoprops`` instead.\n",
            "  removed_version='1.0')\n",
            "/usr/local/lib/python3.10/dist-packages/skimage/feature/__init__.py:42: skimage_deprecation: Function ``greycoprops`` is deprecated and will be removed in version 1.0. Use ``skimage.feature.graycoprops`` instead.\n",
            "  removed_version='1.0')\n",
            "/usr/local/lib/python3.10/dist-packages/skimage/feature/__init__.py:42: skimage_deprecation: Function ``greycoprops`` is deprecated and will be removed in version 1.0. Use ``skimage.feature.graycoprops`` instead.\n",
            "  removed_version='1.0')\n",
            "/usr/local/lib/python3.10/dist-packages/skimage/feature/__init__.py:42: skimage_deprecation: Function ``greycoprops`` is deprecated and will be removed in version 1.0. Use ``skimage.feature.graycoprops`` instead.\n",
            "  removed_version='1.0')\n"
          ]
        },
        {
          "output_type": "stream",
          "name": "stdout",
          "text": [
            "1/1 [==============================] - 0s 416ms/step\n",
            "Predicted probabilities: Non-Bruised=0.7915, Bruised=0.2085\n",
            "Prediction: Non-Bruised\n"
          ]
        }
      ]
    },
    {
      "cell_type": "code",
      "source": [
        "pip install tensorflow==2.16.1\n"
      ],
      "metadata": {
        "id": "u8J7ncp368vA"
      },
      "execution_count": null,
      "outputs": []
    }
  ],
  "metadata": {
    "colab": {
      "provenance": []
    },
    "kernelspec": {
      "display_name": "Python 3 (ipykernel)",
      "language": "python",
      "name": "python3"
    },
    "language_info": {
      "codemirror_mode": {
        "name": "ipython",
        "version": 3
      },
      "file_extension": ".py",
      "mimetype": "text/x-python",
      "name": "python",
      "nbconvert_exporter": "python",
      "pygments_lexer": "ipython3",
      "version": "3.11.7"
    }
  },
  "nbformat": 4,
  "nbformat_minor": 0
}